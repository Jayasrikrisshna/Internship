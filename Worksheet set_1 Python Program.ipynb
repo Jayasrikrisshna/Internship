{
 "cells": [
  {
   "cell_type": "code",
   "execution_count": 4,
   "id": "d82d6e42",
   "metadata": {},
   "outputs": [
    {
     "name": "stdout",
     "output_type": "stream",
     "text": [
      "Enter number: 6\n",
      "The factorial of 6 is 720\n"
     ]
    }
   ],
   "source": [
    "#Q11 To find the Fatorial of a number.\n",
    "\n",
    "num=int(input(\"Enter number: \"))\n",
    "factorial=1\n",
    "if num<0:\n",
    "    print(\"Factorial doesn't exist\")\n",
    "elif num==0:\n",
    "    print(\"The factorial is 1\")\n",
    "else:\n",
    "    for i in range(1,num+1):\n",
    "        factorial=factorial*i\n",
    "    print(\"The factorial of\",num,\"is\",factorial)\n",
    "                            \n",
    "                                                       "
   ]
  },
  {
   "cell_type": "code",
   "execution_count": 10,
   "id": "f2949802",
   "metadata": {},
   "outputs": [
    {
     "name": "stdout",
     "output_type": "stream",
     "text": [
      "Enter the number :64\n",
      "64  is a composite number\n"
     ]
    }
   ],
   "source": [
    "#Q12 To find whether a number is prime or composite\n",
    "\n",
    "num=int(input(\"Enter the number :\"))\n",
    "if num>1:\n",
    "    for i in range(2,int(num/2)+1):\n",
    "        if (num % i) == 0:\n",
    "            print(num,\" is a composite number\")\n",
    "            break\n",
    "        else:\n",
    "            print(num,\"is a prime number\")\n",
    "else:\n",
    "    print(num,\"is not a prime number\")"
   ]
  },
  {
   "cell_type": "code",
   "execution_count": 13,
   "id": "0a65ecec",
   "metadata": {},
   "outputs": [
    {
     "name": "stdout",
     "output_type": "stream",
     "text": [
      "Enter a string :geeks\n",
      "geeks is not a Palindrome\n"
     ]
    }
   ],
   "source": [
    "#Q13 To check whether the given string is palindrome or not\n",
    "\n",
    "string=input((\"Enter a string \"))\n",
    "if (string==string[::-1]):\n",
    "    print(string,\"is a palindrome\")\n",
    "else:\n",
    "    print(string,\"is not a Palindrome\")"
   ]
  },
  {
   "cell_type": "code",
   "execution_count": 9,
   "id": "75ad331e",
   "metadata": {},
   "outputs": [
    {
     "name": "stdout",
     "output_type": "stream",
     "text": [
      "Adjacent = 4.0\n"
     ]
    }
   ],
   "source": [
    "#Q14 To find the third side of a right angled triangle\n",
    "\n",
    "#from math import sqrt\n",
    "#print(\"Enter the length\")\n",
    "\n",
    "#a= float(input(\"a:\"))\n",
    "#b= float (input(\"b:\"))\n",
    "#c= sqrt(a**2+ b**2)\n",
    "#print (\"the length of the hypotenuse is \",c)\n",
    "\n",
    "def pythagoras(opposite_side,adjacent_side,hypotenuse):\n",
    "        if opposite_side == str(\"x\"):\n",
    "            return (\"Opposite = \" + str(((hypotenuse**2) - (adjacent_side**2))**0.5))\n",
    "        elif adjacent_side == str(\"x\"):\n",
    "            return (\"Adjacent = \" + str(((hypotenuse**2) - (opposite_side**2))**0.5))\n",
    "        elif hypotenuse == str(\"x\"):\n",
    "            return (\"Hypotenuse = \" + str(((opposite_side**2) + (adjacent_side**2))**0.5))\n",
    "        else:\n",
    "            return \"The answer\"\n",
    "    \n",
    "print(pythagoras(3,'x',5))\n",
    "\n",
    "\n"
   ]
  },
  {
   "cell_type": "code",
   "execution_count": 12,
   "id": "279ad256",
   "metadata": {},
   "outputs": [
    {
     "name": "stdout",
     "output_type": "stream",
     "text": [
      "Enter the string:Mobilephone\n",
      "{'M': 1, 'o': 2, 'b': 1, 'i': 1, 'l': 1, 'e': 2, 'p': 1, 'h': 1, 'n': 1}\n"
     ]
    }
   ],
   "source": [
    "#Q15 Frequency of each of the characters present in the given string\n",
    "\n",
    "str=input(\"Enter the string:\")\n",
    "d=dict()\n",
    "for c in str:\n",
    "    if c in d:\n",
    "        d[c]=d[c]+1\n",
    "    else: \n",
    "        d[c]=1\n",
    "print(d)\n"
   ]
  },
  {
   "cell_type": "code",
   "execution_count": null,
   "id": "4cccdec6",
   "metadata": {},
   "outputs": [],
   "source": []
  }
 ],
 "metadata": {
  "kernelspec": {
   "display_name": "Python 3 (ipykernel)",
   "language": "python",
   "name": "python3"
  },
  "language_info": {
   "codemirror_mode": {
    "name": "ipython",
    "version": 3
   },
   "file_extension": ".py",
   "mimetype": "text/x-python",
   "name": "python",
   "nbconvert_exporter": "python",
   "pygments_lexer": "ipython3",
   "version": "3.9.7"
  }
 },
 "nbformat": 4,
 "nbformat_minor": 5
}
